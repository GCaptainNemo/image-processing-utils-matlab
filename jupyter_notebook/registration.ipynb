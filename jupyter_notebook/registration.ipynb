{
 "cells": [
  {
   "cell_type": "markdown",
   "id": "6e0d8ec6",
   "metadata": {},
   "source": [
    "# 实验三、 Matlab图像手动配准实验"
   ]
  },
  {
   "cell_type": "markdown",
   "id": "953642ed",
   "metadata": {},
   "source": [
    "## 实验参考\n",
    "搜索 **Register an Aerial Photograph to a Digital Orthophoto** ，实验三的基础。\n",
    "\n",
    "## 实验步骤\n",
    "1. 构造参考图像-配准图像图像对\n",
    "2. 设计配准方案(projective, linear conformal, affine)\n",
    "3. 选择控制点\n",
    "4. 由控制点计算几何变换\n",
    "5. 变换图像实现配准\n",
    "6. 分析比较配准结果(MSE)\n",
    "7. 以上步骤需要编写m文件实现"
   ]
  },
  {
   "cell_type": "markdown",
   "id": "2986e96c",
   "metadata": {},
   "source": [
    "## 实验过程\n",
    "### 1. 读入图像，构造配准图像对"
   ]
  },
  {
   "cell_type": "code",
   "execution_count": 1,
   "id": "56286560",
   "metadata": {},
   "outputs": [
    {
     "name": "stdout",
     "output_type": "stream",
     "text": [
      "\n"
     ]
    }
   ],
   "source": [
    "clear all;\n",
    "close all;\n",
    "origin_img = imread('cameraman.tif');\n",
    "\n",
    "%[row, column, channel] = size(origin_img)\n",
    "transform_img = imrotate(imresize(origin_img, 1.6), 30);\n",
    "crop_img = imcrop(transform_img,[150, 150, 255, 255]);"
   ]
  },
  {
   "cell_type": "markdown",
   "id": "652c7833",
   "metadata": {},
   "source": [
    "**API说明**：\n",
    "1. imread()  读入图片转换成一个矩阵\n",
    "2. imresize(Img, factor)，把图片放大factor倍\n",
    "3. imrotate(Img, degree), 把图片逆时针旋转degree°\n",
    "4. imcrop(Img, [a, b, c, d]), 裁剪一个矩形，左上角坐标是[a, b]， 长为c，高为d\n"
   ]
  },
  {
   "cell_type": "markdown",
   "id": "199d6f66",
   "metadata": {},
   "source": [
    "### 2. 显示"
   ]
  },
  {
   "cell_type": "code",
   "execution_count": null,
   "id": "d9b3b10e",
   "metadata": {},
   "outputs": [],
   "source": [
    "figure; \n",
    "subplot(1,3,1); imshow(origin_img); title(\"origin photo\");\n",
    "subplot(1,3,2); imshow(transform_img); title(\"transform photo\");\n",
    "subplot(1,3,3); imshow(crop_img); title(\"crop img\");"
   ]
  },
  {
   "cell_type": "markdown",
   "id": "e69fee1d",
   "metadata": {},
   "source": [
    "**API说明**：\n",
    "1. figure; 创建一个绘图窗口\n",
    "2. subplot(a, b, c); 把画板分成a×b个子图，当前是第c张子图\n",
    "3. imshow(Img);  在当前子图上显示Img\n",
    "4. title(\"\"); 给图片添加标题\n"
   ]
  },
  {
   "cell_type": "markdown",
   "id": "306ef319",
   "metadata": {},
   "source": [
    "### 3. 手动选择标记点"
   ]
  },
  {
   "cell_type": "markdown",
   "id": "51f00090",
   "metadata": {},
   "source": [
    "##### 注意：\n",
    "1. 投影正变换需要至少2对点（放缩1个自由度、旋转1个自由度、平移2个自由度）\n",
    "2. 仿射变换需要至少3对点\n",
    "3. 投影变换需要至少4对点\n",
    "4. 提取特征点时，多点共线会有什么影响"
   ]
  },
  {
   "cell_type": "code",
   "execution_count": null,
   "id": "e31ce02e",
   "metadata": {},
   "outputs": [],
   "source": [
    "cpselect(crop_img, origin_img);"
   ]
  },
  {
   "cell_type": "markdown",
   "id": "bf04bb6d",
   "metadata": {},
   "source": [
    "### 4. 计算变换矩阵和进行变换"
   ]
  },
  {
   "cell_type": "code",
   "execution_count": null,
   "id": "1162de69",
   "metadata": {},
   "outputs": [],
   "source": [
    "% calculate transform function\n",
    "t1 = cp2tform(movingPoints,fixedPoints,'linear conformal');\n",
    "t2 = cp2tform(movingPoints,fixedPoints,'affine');\n",
    "t3 = cp2tform(movingPoints,fixedPoints,'projective');\n",
    "% control points to transfrom\n",
    "% transform \n",
    "imgout_1 = imtransform(crop_img,t1,'XData',[1 256],'YData',[1 256]);\n",
    "imgout_2 = imtransform(crop_img,t2,'XData',[1 256],'YData',[1 256]);\n",
    "imgout_3 = imtransform(crop_img,t3,'XData',[1 256],'YData',[1 256]);"
   ]
  },
  {
   "cell_type": "markdown",
   "id": "36e5174b",
   "metadata": {},
   "source": [
    "**API说明**:\n",
    "1. cp2transform，根据提取的控制点计算变换函数\n",
    "2. imtransform，对图片进行变换"
   ]
  },
  {
   "cell_type": "markdown",
   "id": "fe893a11",
   "metadata": {},
   "source": [
    "#### 4.1 线性正投影"
   ]
  },
  {
   "cell_type": "code",
   "execution_count": null,
   "id": "22cc0c2e",
   "metadata": {},
   "outputs": [],
   "source": [
    "figure;\n",
    "subplot(1,2,1); imshow(origin_img); title(\"origin image\");\n",
    "subplot(1,2,2); imshow(imgout_1); title(\"linear conformal\");"
   ]
  },
  {
   "cell_type": "markdown",
   "id": "4b11aa68",
   "metadata": {},
   "source": [
    "#### 4.2 仿射变换"
   ]
  },
  {
   "cell_type": "code",
   "execution_count": null,
   "id": "6650d1dc",
   "metadata": {},
   "outputs": [],
   "source": [
    "subplot(1,2,1); imshow(origin_img); title(\"origin image\");\n",
    "subplot(1,2,2); imshow(imgout_2); title(\"affine\");"
   ]
  },
  {
   "cell_type": "markdown",
   "id": "70d83b7f",
   "metadata": {},
   "source": [
    "#### 4.3 投影变换"
   ]
  },
  {
   "cell_type": "code",
   "execution_count": null,
   "id": "80f308d1",
   "metadata": {},
   "outputs": [],
   "source": [
    "subplot(1,2,1);imshow(origin_img);title(\"origin image\");\n",
    "subplot(1,2,2);imshow(imgout_3);title(\"projective\")"
   ]
  },
  {
   "cell_type": "markdown",
   "id": "aadd35fb",
   "metadata": {},
   "source": [
    "### 5. MSE计算"
   ]
  },
  {
   "cell_type": "markdown",
   "id": "9bc6d5d0",
   "metadata": {},
   "source": [
    "最后计算MSE作为衡量配准效果好坏的测度。\n",
    "\n",
    "$$ MSE = \\frac{1}{N \\times M}\\sum_{i=1}^{N}\\sum_{j=1}^{M}(I(i, j) - \\hat{I}(i, j))^2$$\n",
    "\n",
    "**注意**:\n",
    "1. 黑边提取与剔除。\n",
    "2. 比较不同变换下的MSE，解释原因。\n",
    "3. 思考如何实现两幅图像的自动配准。\n",
    "4. 编程时不要使用数组下标I(i, j)的形式来访问数据。"
   ]
  },
  {
   "cell_type": "code",
   "execution_count": null,
   "id": "458b2002",
   "metadata": {},
   "outputs": [],
   "source": []
  }
 ],
 "metadata": {
  "kernelspec": {
   "display_name": "Matlab",
   "language": "matlab",
   "name": "matlab"
  },
  "language_info": {
   "codemirror_mode": "octave",
   "file_extension": ".m",
   "help_links": [
    {
     "text": "MetaKernel Magics",
     "url": "https://metakernel.readthedocs.io/en/latest/source/README.html"
    }
   ],
   "mimetype": "text/x-octave",
   "name": "matlab",
   "version": "0.16.11"
  }
 },
 "nbformat": 4,
 "nbformat_minor": 5
}
